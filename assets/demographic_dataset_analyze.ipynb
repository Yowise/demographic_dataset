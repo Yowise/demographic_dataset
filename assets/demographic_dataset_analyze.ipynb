{
 "cells": [
  {
   "cell_type": "markdown",
   "id": "77e0ba71-afe3-436b-b7fd-d7899d697c36",
   "metadata": {},
   "source": [
    " # **<font color= green> Demographic dataset analyze**</font>\n",
    "***\n"
   ]
  },
  {
   "cell_type": "markdown",
   "id": "18e2bd9a-373a-460d-af82-818029bc8e1a",
   "metadata": {},
   "source": [
    "## I. Import libraries\n",
    "\n",
    "#### only libraries useful for the notebook will be imported. this is a general rule.\n",
    "\n",
    "Usage:\n",
    "<p> 🟥numpy is the fundamental library for numerical computations in Python \n",
    "<br>\n",
    "🟨pandas is used for data manipulation and analysis. It's built on NumPy\n",
    "<br>\n",
    "🟩matplotlib.pyplot is responsbile for creating a wide range of static, animated, and interactive visualizations. It provides a simple interface for creating plots, histograms, power spectra, bar charts, error bars, scatterplots, etc\n",
    "    <br>\n",
    "🟦ipywidgets are interactive HTML widgets </p>\n",
    "\n",
    "***"
   ]
  },
  {
   "cell_type": "code",
   "execution_count": 56,
   "id": "2e1d8eb4-bb76-4c4e-be6a-d1ba38ee16c8",
   "metadata": {},
   "outputs": [],
   "source": [
    "import numpy as np\n",
    "import pandas as pd\n",
    "import matplotlib.pyplot as plt\n",
    "import ipywidgets as widgets"
   ]
  },
  {
   "cell_type": "markdown",
   "id": "dc1dc333-4b85-4c48-bdab-f3e10cbc130a",
   "metadata": {},
   "source": [
    "## II. Data collection"
   ]
  },
  {
   "cell_type": "code",
   "execution_count": 63,
   "id": "2d33a616-dd99-4571-9064-085852a8f9ce",
   "metadata": {},
   "outputs": [
    {
     "name": "stdout",
     "output_type": "stream",
     "text": [
      "<class 'pandas.core.frame.DataFrame'>\n",
      "RangeIndex: 32561 entries, 0 to 32560\n",
      "Data columns (total 15 columns):\n",
      " #   Column          Non-Null Count  Dtype \n",
      "---  ------          --------------  ----- \n",
      " 0   age             32561 non-null  int64 \n",
      " 1   workclass       32561 non-null  object\n",
      " 2   fnlwgt          32561 non-null  int64 \n",
      " 3   education       32561 non-null  object\n",
      " 4   education-num   32561 non-null  int64 \n",
      " 5   marital-status  32561 non-null  object\n",
      " 6   occupation      32561 non-null  object\n",
      " 7   relationship    32561 non-null  object\n",
      " 8   race            32561 non-null  object\n",
      " 9   gender          32561 non-null  object\n",
      " 10  capital-gain    32561 non-null  int64 \n",
      " 11  capital-loss    32561 non-null  int64 \n",
      " 12  hours-per-week  32561 non-null  int64 \n",
      " 13  native-country  32561 non-null  object\n",
      " 14  salary          32561 non-null  object\n",
      "dtypes: int64(6), object(9)\n",
      "memory usage: 3.7+ MB\n"
     ]
    }
   ],
   "source": [
    " data = pd.read_csv('adult.data.csv')\n",
    " data.info()"
   ]
  },
  {
   "cell_type": "markdown",
   "id": "c398c66b-ddef-4ee0-850d-385e9f5fd192",
   "metadata": {},
   "source": [
    "## III. Pre-exercise 🌟"
   ]
  },
  {
   "cell_type": "code",
   "execution_count": 65,
   "id": "49167873-1d7e-46bf-a1d3-542fcd43cb0a",
   "metadata": {
    "scrolled": true
   },
   "outputs": [
    {
     "data": {
      "text/plain": [
       "native-country\n",
       "United-States                 29133\n",
       "Mexico                          643\n",
       "?                               583\n",
       "Philippines                     198\n",
       "Germany                         143\n",
       "Canada                          121\n",
       "Puerto-Rico                     114\n",
       "El-Salvador                     106\n",
       "India                           100\n",
       "Cuba                             95\n",
       "England                          90\n",
       "Jamaica                          81\n",
       "South                            80\n",
       "Italy                            78\n",
       "China                            75\n",
       "Dominican-Republic               70\n",
       "Vietnam                          67\n",
       "Guatemala                        64\n",
       "Japan                            62\n",
       "Poland                           60\n",
       "Columbia                         59\n",
       "Taiwan                           51\n",
       "Haiti                            44\n",
       "Iran                             43\n",
       "Portugal                         37\n",
       "France                           34\n",
       "Nicaragua                        34\n",
       "Peru                             31\n",
       "Greece                           29\n",
       "Ecuador                          28\n",
       "Ireland                          24\n",
       "Hong                             20\n",
       "Cambodia                         19\n",
       "Trinadad&Tobago                  19\n",
       "Thailand                         18\n",
       "Laos                             18\n",
       "Yugoslavia                       16\n",
       "Outlying-US(Guam-USVI-etc)       14\n",
       "Honduras                         13\n",
       "Hungary                          13\n",
       "New Zealand                      12\n",
       "Scotland                         12\n",
       "Australia                         9\n",
       "Holand-Netherlands                1\n",
       "Name: count, dtype: int64"
      ]
     },
     "execution_count": 65,
     "metadata": {},
     "output_type": "execute_result"
    }
   ],
   "source": [
    "df = pd.DataFrame(data) \n",
    "df['native-country'].value_counts() "
   ]
  },
  {
   "cell_type": "code",
   "execution_count": 67,
   "id": "5e33c085-1b2a-40fc-90c4-2592069251b7",
   "metadata": {},
   "outputs": [
    {
     "name": "stdout",
     "output_type": "stream",
     "text": [
      "The number of unique countries: 44\n"
     ]
    }
   ],
   "source": [
    "num_countries = df['native-country'].value_counts().shape[0]\n",
    "print(f\"The number of unique countries: {num_countries}\")"
   ]
  },
  {
   "cell_type": "code",
   "execution_count": 31,
   "id": "bbcf0d61-423b-43de-8183-12c1bfba1b89",
   "metadata": {},
   "outputs": [
    {
     "data": {
      "text/plain": [
       "age                          39\n",
       "workclass             State-gov\n",
       "fnlwgt                    77516\n",
       "education             Bachelors\n",
       "education-num                13\n",
       "marital-status    Never-married\n",
       "occupation         Adm-clerical\n",
       "relationship      Not-in-family\n",
       "race                      White\n",
       "gender                     Male\n",
       "capital-gain               2174\n",
       "capital-loss                  0\n",
       "hours-per-week               40\n",
       "native-country    United-States\n",
       "salary                    <=50K\n",
       "Name: 0, dtype: object"
      ]
     },
     "execution_count": 31,
     "metadata": {},
     "output_type": "execute_result"
    }
   ],
   "source": [
    "df.loc[0]"
   ]
  },
  {
   "cell_type": "markdown",
   "id": "6195b0a8-2256-41a2-9218-4616d09535e3",
   "metadata": {},
   "source": [
    "## IV. Exercises!"
   ]
  },
  {
   "cell_type": "markdown",
   "id": "c0f90815-7b5d-428d-8689-a4907a90b5c3",
   "metadata": {},
   "source": [
    "### 1. What is the mean age of men?"
   ]
  },
  {
   "cell_type": "code",
   "execution_count": null,
   "id": "6d5d30c7-43b1-421d-93e0-5ebe93c38871",
   "metadata": {},
   "outputs": [],
   "source": [
    "mean_age_men = round(df[df['gender'] == 'Male']['age'].mean(),1) \n",
    "print(mean_age_men)"
   ]
  },
  {
   "cell_type": "code",
   "execution_count": 11,
   "id": "abf11f17-5e1b-4410-953f-7d21a7811f19",
   "metadata": {},
   "outputs": [
    {
     "data": {
      "application/vnd.jupyter.widget-view+json": {
       "model_id": "b896c11531074bbfa775c95fa9a97dba",
       "version_major": 2,
       "version_minor": 0
      },
      "text/plain": [
       "IntProgress(value=1, bar_style='success', max=7)"
      ]
     },
     "execution_count": 11,
     "metadata": {},
     "output_type": "execute_result"
    }
   ],
   "source": [
    "widgets.IntProgress(\n",
    "    value=1,\n",
    "    min=0,\n",
    "    max=7,\n",
    "    bar_style='success',\n",
    "    orientation='horizontal'\n",
    ")"
   ]
  },
  {
   "cell_type": "markdown",
   "id": "60918754-4a31-4fb2-9435-a712ff20d201",
   "metadata": {},
   "source": [
    "### 2. What is the number of people who are over 30 years old and have a Bachelors? "
   ]
  },
  {
   "cell_type": "code",
   "execution_count": 68,
   "id": "7dbf2d18-dbad-4373-bb30-982cb1361873",
   "metadata": {},
   "outputs": [
    {
     "name": "stdout",
     "output_type": "stream",
     "text": [
      "3796\n"
     ]
    }
   ],
   "source": [
    "bachelors_degree_over_30 = len(df[(df['age'] > 30) & (df['education'] == 'Bachelors')])\n",
    "print(bachelors_degree_over_30)\n"
   ]
  },
  {
   "cell_type": "code",
   "execution_count": 12,
   "id": "ff979b33-04ef-4f89-9cb1-f2efdc8ac3ae",
   "metadata": {},
   "outputs": [
    {
     "data": {
      "application/vnd.jupyter.widget-view+json": {
       "model_id": "9788a467e530409a8a8dc94d435e4d81",
       "version_major": 2,
       "version_minor": 0
      },
      "text/plain": [
       "IntProgress(value=2, bar_style='success', max=7)"
      ]
     },
     "execution_count": 12,
     "metadata": {},
     "output_type": "execute_result"
    }
   ],
   "source": [
    "widgets.IntProgress(\n",
    "    value=2,\n",
    "    min=0,\n",
    "    max=7,\n",
    "    bar_style='success',\n",
    "    orientation='horizontal'\n",
    ")"
   ]
  },
  {
   "cell_type": "markdown",
   "id": "baadb905-8fec-4c6e-8101-1c8985d65ca9",
   "metadata": {},
   "source": [
    "### 3. Calculate the percentage of the previous data"
   ]
  },
  {
   "cell_type": "code",
   "execution_count": 69,
   "id": "ef86e78a-f78f-4445-8b79-c9f1695c046e",
   "metadata": {},
   "outputs": [
    {
     "name": "stdout",
     "output_type": "stream",
     "text": [
      "11.7\n"
     ]
    }
   ],
   "source": [
    "total_people = len(df) \n",
    "bachelors_degree_over_30_percentage = round((bachelors_degree_over_30 / total_people) * 100, 1) \n",
    "print(bachelors_degree_over_30_percentage)\n"
   ]
  },
  {
   "cell_type": "code",
   "execution_count": 13,
   "id": "7a8e783a-5ba6-4e83-9c50-1627f5912955",
   "metadata": {},
   "outputs": [
    {
     "data": {
      "application/vnd.jupyter.widget-view+json": {
       "model_id": "e29f5ff2e6ed4d628921ad2b507c6323",
       "version_major": 2,
       "version_minor": 0
      },
      "text/plain": [
       "IntProgress(value=3, bar_style='success', max=7)"
      ]
     },
     "execution_count": 13,
     "metadata": {},
     "output_type": "execute_result"
    }
   ],
   "source": [
    "widgets.IntProgress(\n",
    "    value=3,\n",
    "    min=0,\n",
    "    max=7,\n",
    "    bar_style='success',\n",
    "    orientation='horizontal'\n",
    ")"
   ]
  },
  {
   "cell_type": "markdown",
   "id": "a58ad47e-8178-4c06-a9d8-0c24178bcb1d",
   "metadata": {},
   "source": [
    "### 4. What is the number of people who are over 30 years old and have a Masters?"
   ]
  },
  {
   "cell_type": "code",
   "execution_count": 36,
   "id": "8a9cdde0-77c9-436d-9924-4b397e424b57",
   "metadata": {},
   "outputs": [
    {
     "name": "stdout",
     "output_type": "stream",
     "text": [
      "1524\n"
     ]
    }
   ],
   "source": [
    "masters_degree_over_30 = len(df[(df['age'] > 30) & (df['education'] == 'Masters')])\n",
    "print(masters_degree_over_30)"
   ]
  },
  {
   "cell_type": "code",
   "execution_count": 14,
   "id": "8e21ca43-7f81-455e-b7fb-5e4f6fe63007",
   "metadata": {},
   "outputs": [
    {
     "data": {
      "application/vnd.jupyter.widget-view+json": {
       "model_id": "ad60ce496e3541e8a762d9155f59507f",
       "version_major": 2,
       "version_minor": 0
      },
      "text/plain": [
       "IntProgress(value=4, bar_style='success', max=7)"
      ]
     },
     "execution_count": 14,
     "metadata": {},
     "output_type": "execute_result"
    }
   ],
   "source": [
    "widgets.IntProgress(\n",
    "    value=4,\n",
    "    min=0,\n",
    "    max=7,\n",
    "    bar_style='success',\n",
    "    orientation='horizontal'\n",
    ")"
   ]
  },
  {
   "cell_type": "markdown",
   "id": "595dbc72-074b-40b4-ae24-c8cc5047fe1c",
   "metadata": {},
   "source": [
    "### 5. Calculate the percentage of the previous data"
   ]
  },
  {
   "cell_type": "code",
   "execution_count": 37,
   "id": "29a01436-e3b2-47fc-8cb7-296623457010",
   "metadata": {},
   "outputs": [
    {
     "name": "stdout",
     "output_type": "stream",
     "text": [
      "4.7\n"
     ]
    }
   ],
   "source": [
    "total_people = len(df)\n",
    "masters_degree_over_30_percentage = round((masters_degree_over_30 / total_people) * 100, 1)\n",
    "print(masters_degree_over_30_percentage)"
   ]
  },
  {
   "cell_type": "code",
   "execution_count": 15,
   "id": "4945f505-ed89-4bc9-8f02-6fe58b137f6b",
   "metadata": {},
   "outputs": [
    {
     "data": {
      "application/vnd.jupyter.widget-view+json": {
       "model_id": "dad2929ce4824497a13c796dcd8382df",
       "version_major": 2,
       "version_minor": 0
      },
      "text/plain": [
       "IntProgress(value=5, bar_style='success', max=7)"
      ]
     },
     "execution_count": 15,
     "metadata": {},
     "output_type": "execute_result"
    }
   ],
   "source": [
    "widgets.IntProgress(\n",
    "    value=5,\n",
    "    min=0,\n",
    "    max=7,\n",
    "    bar_style='success', \n",
    "    orientation='horizontal'\n",
    ")"
   ]
  },
  {
   "cell_type": "markdown",
   "id": "da954c46-33fd-4327-aa1b-fbd84aca5c16",
   "metadata": {},
   "source": [
    "### 6. Create a pie plot showing the percentage of people with Bachelors or Masters Degree who are >30 years old"
   ]
  },
  {
   "cell_type": "code",
   "execution_count": 59,
   "id": "65472b9c-7220-4b31-95d2-8dfadd72b5a4",
   "metadata": {},
   "outputs": [
    {
     "data": {
      "image/png": "[encoded data removed]",
      "text/plain": [
       "<Figure size 640x480 with 1 Axes>"
      ]
     },
     "metadata": {},
     "output_type": "display_data"
    }
   ],
   "source": [
    "# it's not necessary to name the variables 'x', respectively 'y'. any suitable name is preferred.\n",
    "\n",
    "x = [bachelors_degree_over_30, masters_degree_over_30] # the numerical values for each slice\n",
    "y = ['Bachelors', 'Masters'] # the list of labels corresponding to each slice\n",
    "\n",
    "plt.pie(x, labels=y, autopct='%1.1f%%')\n",
    "plt.title('Percentage of People with Bachelors or Masters Degrees (Over 30)')\n",
    "plt.show()\n"
   ]
  },
  {
   "cell_type": "code",
   "execution_count": 16,
   "id": "33605c80-3088-49f6-a294-9c3fbe43d046",
   "metadata": {},
   "outputs": [
    {
     "data": {
      "application/vnd.jupyter.widget-view+json": {
       "model_id": "e644da59312c4d3286483c5fe1d6dd94",
       "version_major": 2,
       "version_minor": 0
      },
      "text/plain": [
       "IntProgress(value=6, bar_style='success', max=7)"
      ]
     },
     "execution_count": 16,
     "metadata": {},
     "output_type": "execute_result"
    }
   ],
   "source": [
    "widgets.IntProgress(\n",
    "    value=6,\n",
    "    min=0,\n",
    "    max=7,\n",
    "    bar_style='success', \n",
    "    orientation='horizontal'\n",
    ")"
   ]
  },
  {
   "cell_type": "markdown",
   "id": "2bcd2b29-7973-473f-abc0-564c57866c10",
   "metadata": {},
   "source": [
    "### 7. Which country hast the biggest number of people who make >50k?"
   ]
  },
  {
   "cell_type": "code",
   "execution_count": 58,
   "id": "a00f46aa-edb0-4f61-b289-d3d802be98ab",
   "metadata": {},
   "outputs": [
    {
     "name": "stdout",
     "output_type": "stream",
     "text": [
      "United-States\n"
     ]
    }
   ],
   "source": [
    "high_income_df = df[df['salary'] == '>50K']\n",
    "country_counts = high_income_df['native-country'].value_counts()\n",
    "country_with_highest_count = country_counts.index[0]\n",
    "print(country_with_highest_count)"
   ]
  },
  {
   "cell_type": "code",
   "execution_count": 17,
   "id": "d8bb7ac1-2729-4d34-8311-aceca4e642f6",
   "metadata": {},
   "outputs": [
    {
     "data": {
      "application/vnd.jupyter.widget-view+json": {
       "model_id": "2b529265475c40c5b85683743f57e352",
       "version_major": 2,
       "version_minor": 0
      },
      "text/plain": [
       "IntProgress(value=7, bar_style='success', max=7)"
      ]
     },
     "execution_count": 17,
     "metadata": {},
     "output_type": "execute_result"
    }
   ],
   "source": [
    "widgets.IntProgress(\n",
    "    value=7,\n",
    "    min=0,\n",
    "    max=7,\n",
    "    bar_style='success', \n",
    "    orientation='horizontal'\n",
    ")"
   ]
  },
  {
   "cell_type": "markdown",
   "id": "8bea5461-c8e8-4249-97ea-d8ba6b3535a2",
   "metadata": {},
   "source": [
    "## BONUS: Which is the top function in France? ✍️"
   ]
  },
  {
   "cell_type": "code",
   "execution_count": 52,
   "id": "b3880037-b2cf-41d8-a809-04cba8034f40",
   "metadata": {},
   "outputs": [
    {
     "name": "stdout",
     "output_type": "stream",
     "text": [
      "Exec-managerial\n"
     ]
    }
   ],
   "source": [
    "top_IN_occupation = df[(df['native-country'] == 'France') & (df['salary'] == '>50K')]['occupation'].value_counts().index[0] # filter the DataFrame to include only rows where the country is 'France' and the salary is greater than 50K.\n",
    "\n",
    "print(top_IN_occupation)"
   ]
  },
  {
   "cell_type": "code",
   "execution_count": null,
   "id": "851ac232-db68-4b21-b7f4-7f75d08ed671",
   "metadata": {},
   "outputs": [],
   "source": []
  }
 ],
 "metadata": {
  "kernelspec": {
   "display_name": "Python 3 (ipykernel)",
   "language": "python",
   "name": "python3"
  },
  "language_info": {
   "codemirror_mode": {
    "name": "ipython",
    "version": 3
   },
   "file_extension": ".py",
   "mimetype": "text/x-python",
   "name": "python",
   "nbconvert_exporter": "python",
   "pygments_lexer": "ipython3",
   "version": "3.12.5"
  }
 },
 "nbformat": 4,
 "nbformat_minor": 5
}
